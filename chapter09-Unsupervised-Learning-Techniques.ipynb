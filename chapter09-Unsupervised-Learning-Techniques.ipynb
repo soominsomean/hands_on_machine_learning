{
 "cells": [
  {
   "cell_type": "markdown",
   "metadata": {},
   "source": [
    "# Unsupervised Learning\n",
    "1. Clustering\n",
    "    * Group similar instances together into cluster.\n",
    "        * ex: data analysis, customer segmentation, recommender system, search engine, image segmentation, semi-supervised learning, dimensionality reduction\n",
    "2. Anomaly detection\n",
    "    * To learn what \"normal\" data looks like, and then use that to detect abnormal instances.\n",
    "        * ex: defective items on the production line, new trend in a time-series\n",
    "3. Density estimation\n",
    "    * Estimating the probability density function (PDF) - commonly used for anomaly detection\n"
   ]
  },
  {
   "cell_type": "markdown",
   "metadata": {},
   "source": []
  }
 ],
 "metadata": {
  "language_info": {
   "name": "python"
  },
  "orig_nbformat": 4
 },
 "nbformat": 4,
 "nbformat_minor": 2
}
