{
 "cells": [
  {
   "cell_type": "markdown",
   "metadata": {},
   "source": [
    "### Loading data and a model"
   ]
  },
  {
   "cell_type": "code",
   "execution_count": 11,
   "metadata": {},
   "outputs": [
    {
     "name": "stdout",
     "output_type": "stream",
     "text": [
      "Epoch 1/20\n",
      "155/363 [===========>..................] - ETA: 0s - loss: 1.0312 "
     ]
    },
    {
     "name": "stderr",
     "output_type": "stream",
     "text": [
      "2022-08-18 08:56:08.357026: W tensorflow/core/platform/profile_utils/cpu_utils.cc:128] Failed to get CPU frequency: 0 Hz\n"
     ]
    },
    {
     "name": "stdout",
     "output_type": "stream",
     "text": [
      "363/363 [==============================] - 0s 552us/step - loss: 0.7446 - val_loss: 0.6632\n",
      "Epoch 2/20\n",
      "363/363 [==============================] - 0s 401us/step - loss: 0.4530 - val_loss: 0.7184\n",
      "Epoch 3/20\n",
      "363/363 [==============================] - 0s 392us/step - loss: 0.4254 - val_loss: 0.4079\n",
      "Epoch 4/20\n",
      "363/363 [==============================] - 0s 390us/step - loss: 0.4066 - val_loss: 0.4682\n",
      "Epoch 5/20\n",
      "363/363 [==============================] - 0s 509us/step - loss: 0.4113 - val_loss: 0.3969\n",
      "Epoch 6/20\n",
      "363/363 [==============================] - 0s 392us/step - loss: 0.3951 - val_loss: 0.4281\n",
      "Epoch 7/20\n",
      "363/363 [==============================] - 0s 391us/step - loss: 0.4000 - val_loss: 0.5870\n",
      "Epoch 8/20\n",
      "363/363 [==============================] - 0s 387us/step - loss: 0.3945 - val_loss: 1.0952\n",
      "Epoch 9/20\n",
      "363/363 [==============================] - 0s 396us/step - loss: 0.3845 - val_loss: 0.4156\n",
      "Epoch 10/20\n",
      "363/363 [==============================] - 0s 455us/step - loss: 0.3836 - val_loss: 0.4959\n",
      "Epoch 11/20\n",
      "363/363 [==============================] - 0s 422us/step - loss: 0.3816 - val_loss: 0.8972\n",
      "Epoch 12/20\n",
      "363/363 [==============================] - 0s 388us/step - loss: 0.3900 - val_loss: 0.6292\n",
      "Epoch 13/20\n",
      "363/363 [==============================] - 0s 393us/step - loss: 0.3770 - val_loss: 0.4517\n",
      "Epoch 14/20\n",
      "363/363 [==============================] - 0s 396us/step - loss: 0.3825 - val_loss: 0.4026\n",
      "Epoch 15/20\n",
      "363/363 [==============================] - 0s 432us/step - loss: 0.3762 - val_loss: 0.3749\n",
      "Epoch 16/20\n",
      "363/363 [==============================] - 0s 386us/step - loss: 0.3744 - val_loss: 0.6287\n",
      "Epoch 17/20\n",
      "363/363 [==============================] - 0s 388us/step - loss: 0.4027 - val_loss: 0.9261\n",
      "Epoch 18/20\n",
      "363/363 [==============================] - 0s 417us/step - loss: 0.3805 - val_loss: 1.9020\n",
      "Epoch 19/20\n",
      "363/363 [==============================] - 0s 396us/step - loss: 0.3815 - val_loss: 0.8101\n",
      "Epoch 20/20\n",
      "363/363 [==============================] - 0s 404us/step - loss: 0.3697 - val_loss: 0.6437\n",
      "162/162 [==============================] - 0s 280us/step - loss: 0.4370\n",
      "1/1 [==============================] - 0s 30ms/step\n"
     ]
    }
   ],
   "source": [
    "from sklearn.datasets import fetch_california_housing\n",
    "from sklearn.model_selection import train_test_split\n",
    "from sklearn.preprocessing import StandardScaler\n",
    "from tensorflow import keras\n",
    "\n",
    "housing = fetch_california_housing()\n",
    "X_train_full, X_test, y_train_full, y_test = train_test_split(\n",
    "housing.data, housing.target)\n",
    "X_train, X_valid, y_train, y_valid = train_test_split(\n",
    "X_train_full, y_train_full)\n",
    "scaler = StandardScaler()\n",
    "X_train = scaler.fit_transform(X_train)\n",
    "X_valid = scaler.transform(X_valid)\n",
    "X_test = scaler.transform(X_test)\n",
    "\n",
    "model = keras.models.Sequential([\n",
    "keras.layers.Dense(30, activation=\"relu\", input_shape=X_train.shape[1:]),\n",
    "keras.layers.Dense(1)\n",
    "])\n",
    "model.compile(loss=\"mean_squared_error\", optimizer=\"sgd\")\n",
    "history = model.fit(X_train, y_train, epochs=20,\n",
    "validation_data=(X_valid, y_valid))\n",
    "mse_test = model.evaluate(X_test, y_test)\n",
    "X_new = X_test[:3] # pretend these are new instances\n",
    "y_pred = model.predict(X_new)"
   ]
  },
  {
   "cell_type": "code",
   "execution_count": 7,
   "metadata": {},
   "outputs": [
    {
     "data": {
      "text/plain": [
       "'./my_logs'"
      ]
     },
     "execution_count": 7,
     "metadata": {},
     "output_type": "execute_result"
    }
   ],
   "source": [
    "import os\n",
    "root_logdir = os.path.join(os.curdir, \"my_logs\")\n",
    "root_logdir"
   ]
  },
  {
   "cell_type": "code",
   "execution_count": 3,
   "metadata": {},
   "outputs": [],
   "source": [
    "import time\n",
    "def get_run_logdir():\n",
    "    run_id = time.strftime(\"run_%Y_%m_%d-%H_%M_%S\")\n",
    "    return os.path.join(root_logdir, run_id)"
   ]
  },
  {
   "cell_type": "code",
   "execution_count": 9,
   "metadata": {},
   "outputs": [
    {
     "data": {
      "text/plain": [
       "'./my_logs/run_2022_08_18-08_54_41'"
      ]
     },
     "execution_count": 9,
     "metadata": {},
     "output_type": "execute_result"
    }
   ],
   "source": [
    "run_logdir = get_run_logdir()\n",
    "run_logdir"
   ]
  },
  {
   "cell_type": "code",
   "execution_count": 16,
   "metadata": {},
   "outputs": [
    {
     "name": "stdout",
     "output_type": "stream",
     "text": [
      "Epoch 1/30\n",
      "363/363 [==============================] - 0s 469us/step - loss: 0.3074 - val_loss: 0.4308\n",
      "Epoch 2/30\n",
      "363/363 [==============================] - 0s 397us/step - loss: 0.3079 - val_loss: 0.3433\n",
      "Epoch 3/30\n",
      "363/363 [==============================] - 0s 398us/step - loss: 0.3070 - val_loss: 0.3339\n",
      "Epoch 4/30\n",
      "363/363 [==============================] - 0s 567us/step - loss: 0.3081 - val_loss: 0.3424\n",
      "Epoch 5/30\n",
      "363/363 [==============================] - 0s 1ms/step - loss: 0.3053 - val_loss: 0.3357\n",
      "Epoch 6/30\n",
      "363/363 [==============================] - 0s 1ms/step - loss: 0.3050 - val_loss: 0.3596\n",
      "Epoch 7/30\n",
      "363/363 [==============================] - 0s 917us/step - loss: 0.3058 - val_loss: 0.3091\n",
      "Epoch 8/30\n",
      "363/363 [==============================] - 0s 497us/step - loss: 0.3054 - val_loss: 0.3075\n",
      "Epoch 9/30\n",
      "363/363 [==============================] - 0s 402us/step - loss: 0.3066 - val_loss: 0.3624\n",
      "Epoch 10/30\n",
      "363/363 [==============================] - 0s 405us/step - loss: 0.3043 - val_loss: 0.3554\n",
      "Epoch 11/30\n",
      "363/363 [==============================] - 0s 418us/step - loss: 0.3036 - val_loss: 0.3452\n",
      "Epoch 12/30\n",
      "363/363 [==============================] - 0s 405us/step - loss: 0.3102 - val_loss: 0.3257\n",
      "Epoch 13/30\n",
      "363/363 [==============================] - 0s 411us/step - loss: 0.3035 - val_loss: 0.4288\n",
      "Epoch 14/30\n",
      "363/363 [==============================] - 0s 409us/step - loss: 0.3028 - val_loss: 0.3596\n",
      "Epoch 15/30\n",
      "363/363 [==============================] - 0s 397us/step - loss: 0.3081 - val_loss: 0.3242\n",
      "Epoch 16/30\n",
      "363/363 [==============================] - 0s 392us/step - loss: 0.3028 - val_loss: 0.3111\n",
      "Epoch 17/30\n",
      "363/363 [==============================] - 0s 405us/step - loss: 0.3039 - val_loss: 0.5135\n",
      "Epoch 18/30\n",
      "363/363 [==============================] - 0s 408us/step - loss: 0.3013 - val_loss: 0.3464\n",
      "Epoch 19/30\n",
      "363/363 [==============================] - 0s 400us/step - loss: 0.3021 - val_loss: 0.4375\n",
      "Epoch 20/30\n",
      "363/363 [==============================] - 0s 398us/step - loss: 0.3048 - val_loss: 0.3744\n",
      "Epoch 21/30\n",
      "363/363 [==============================] - 0s 399us/step - loss: 0.3064 - val_loss: 0.3213\n",
      "Epoch 22/30\n",
      "363/363 [==============================] - 0s 400us/step - loss: 0.2996 - val_loss: 0.3892\n",
      "Epoch 23/30\n",
      "363/363 [==============================] - 0s 397us/step - loss: 0.3002 - val_loss: 0.3107\n",
      "Epoch 24/30\n",
      "363/363 [==============================] - 0s 398us/step - loss: 0.3020 - val_loss: 0.3178\n",
      "Epoch 25/30\n",
      "363/363 [==============================] - 0s 409us/step - loss: 0.3001 - val_loss: 0.4279\n",
      "Epoch 26/30\n",
      "363/363 [==============================] - 0s 401us/step - loss: 0.3078 - val_loss: 0.3347\n",
      "Epoch 27/30\n",
      "363/363 [==============================] - 0s 402us/step - loss: 0.3044 - val_loss: 0.3135\n",
      "Epoch 28/30\n",
      "363/363 [==============================] - 0s 401us/step - loss: 0.3007 - val_loss: 0.4477\n",
      "Epoch 29/30\n",
      "363/363 [==============================] - 0s 395us/step - loss: 0.3012 - val_loss: 0.3037\n",
      "Epoch 30/30\n",
      "363/363 [==============================] - 0s 399us/step - loss: 0.3006 - val_loss: 0.3784\n"
     ]
    }
   ],
   "source": [
    "tensorboard_cb = keras.callbacks.TensorBoard(get_run_logdir())\n",
    "history = model.fit(\n",
    "    X_train, \n",
    "    y_train, \n",
    "    epochs=30,\n",
    "    validation_data=(X_valid, y_valid),\n",
    "    callbacks=[tensorboard_cb]\n",
    ")"
   ]
  },
  {
   "cell_type": "code",
   "execution_count": 21,
   "metadata": {},
   "outputs": [],
   "source": [
    "# Create a personalized log\n",
    "import tensorflow as tf\n",
    "import numpy as np\n",
    "\n",
    "test_logdir = get_run_logdir()\n",
    "writer = tf.summary.create_file_writer(test_logdir)\n",
    "with writer.as_default():\n",
    "    for step in range(1, 1000 + 1):\n",
    "        tf.summary.scalar(\"my_scalar\", np.sin(step / 10), step=step)\n",
    "        data = (np.random.randn(100) + 2) * step / 100 # some random data\n",
    "        tf.summary.histogram(\"my_hist\", data, buckets=50, step=step)\n",
    "        images = np.random.rand(2, 32, 32, 3) # random 32×32 RGB images\n",
    "        tf.summary.image(\"my_images\", images * step / 1000, step=step)\n",
    "        texts = [\"The step is \" + str(step), \"Its square is \" + str(step**2)]\n",
    "        tf.summary.text(\"my_text\", texts, step=step)\n",
    "        sine_wave = tf.math.sin(tf.range(12000) / 48000 * 2 * np.pi * step)\n",
    "        audio = tf.reshape(tf.cast(sine_wave, tf.float32), [1, -1, 1])\n",
    "        tf.summary.audio(\"my_audio\", audio, sample_rate=48000, step=step)"
   ]
  }
 ],
 "metadata": {
  "interpreter": {
   "hash": "5f5c8a3209899e766b0d344da7f378c47efae6198cfb7cfdabe359cc9a92c262"
  },
  "kernelspec": {
   "display_name": "Python 3.10.5 64-bit ('handson-conda')",
   "language": "python",
   "name": "python3"
  },
  "language_info": {
   "codemirror_mode": {
    "name": "ipython",
    "version": 3
   },
   "file_extension": ".py",
   "mimetype": "text/x-python",
   "name": "python",
   "nbconvert_exporter": "python",
   "pygments_lexer": "ipython3",
   "version": "3.10.5"
  },
  "orig_nbformat": 4
 },
 "nbformat": 4,
 "nbformat_minor": 2
}
