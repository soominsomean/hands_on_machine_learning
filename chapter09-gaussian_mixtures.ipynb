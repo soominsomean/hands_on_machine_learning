{
 "cells": [
  {
   "cell_type": "markdown",
   "metadata": {},
   "source": [
    "# Gaussian mixture model\n",
    "\n",
    "Probablistic model which assumes that the instances were generated from a mixture of several Gaussian distributions whose parameters were unknown.\n",
    "\n",
    "GMM works well on the clusters with elliptical shapes, but does not work well with different shapes (Ex: moons dataset from sklearn)\n",
    "\n",
    "Anomaly detection with Gaussian mixture model\n",
    "Set the density threshold: ex: 4%\n",
    "4% of the instances located in areas below this threshold density are outliers"
   ]
  },
  {
   "cell_type": "markdown",
   "metadata": {},
   "source": [
    "# Anomaly detection algorithm\n",
    "\n",
    "1. PCA (+ other dimensionality reduction algorithms)\n",
    "Compare the reconstruction error, and anomalies are the ones with high reconstruction error.\n",
    "\n",
    "2. Isolation Forest\n",
    "Efficient algorithm for outlier detection, especially in high-dimensional datasets.\n",
    "    1. Build a decision tree\n",
    "    2. At each node, randomly select a feature\n",
    "    3. Set the threshold of a feature (min or max), split the dataset into two.\n",
    "    4. Data set is being chopped, and in the end all instances end up isolated from different instances.\n",
    "    5. Outliers tend to get isolated in fewer steps than normal instances"
   ]
  },
  {
   "cell_type": "markdown",
   "metadata": {},
   "source": [
    "Anomaly detection VS Novelty detection\n",
    "\n",
    "Anomaly detection is trained on datasets containing outliers, and the goal is to detect these outliers from the training set. + Detecting outliers from the new instances\n",
    "\n",
    "\n",
    "Novelty detection is trained on the datsets that are presumed to be clean, and the objective is to detect novelties strictly among new instances\n"
   ]
  }
 ],
 "metadata": {
  "language_info": {
   "name": "python"
  },
  "orig_nbformat": 4
 },
 "nbformat": 4,
 "nbformat_minor": 2
}
