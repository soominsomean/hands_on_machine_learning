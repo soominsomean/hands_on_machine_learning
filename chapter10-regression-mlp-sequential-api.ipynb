{
 "cells": [
  {
   "cell_type": "code",
   "execution_count": 3,
   "metadata": {},
   "outputs": [],
   "source": [
    "from sklearn.datasets import fetch_california_housing\n",
    "from sklearn.model_selection import train_test_split\n",
    "from sklearn.preprocessing import StandardScaler"
   ]
  },
  {
   "cell_type": "code",
   "execution_count": 4,
   "metadata": {},
   "outputs": [],
   "source": [
    "housing = fetch_california_housing()"
   ]
  },
  {
   "cell_type": "code",
   "execution_count": 5,
   "metadata": {},
   "outputs": [],
   "source": [
    "X_train_full, X_test, y_train_full, y_test = train_test_split(\n",
    "housing.data, housing.target)\n",
    "X_train, X_valid, y_train, y_valid = train_test_split(\n",
    "X_train_full, y_train_full)"
   ]
  },
  {
   "cell_type": "code",
   "execution_count": 6,
   "metadata": {},
   "outputs": [],
   "source": [
    "scaler = StandardScaler()\n",
    "X_train = scaler.fit_transform(X_train)\n",
    "X_valid = scaler.transform(X_valid)\n",
    "X_test = scaler.transform(X_test)"
   ]
  },
  {
   "cell_type": "markdown",
   "metadata": {},
   "source": [
    "# Build a model"
   ]
  },
  {
   "cell_type": "markdown",
   "metadata": {},
   "source": [
    "# Plain model"
   ]
  },
  {
   "cell_type": "markdown",
   "metadata": {},
   "source": [
    "### Sequential API"
   ]
  },
  {
   "cell_type": "code",
   "execution_count": 7,
   "metadata": {},
   "outputs": [],
   "source": [
    "from tensorflow import keras"
   ]
  },
  {
   "cell_type": "code",
   "execution_count": 12,
   "metadata": {},
   "outputs": [
    {
     "name": "stdout",
     "output_type": "stream",
     "text": [
      "Epoch 1/20\n",
      "151/363 [===========>..................] - ETA: 0s - loss: 0.9714 "
     ]
    },
    {
     "name": "stderr",
     "output_type": "stream",
     "text": [
      "2022-08-16 07:05:59.866097: W tensorflow/core/platform/profile_utils/cpu_utils.cc:128] Failed to get CPU frequency: 0 Hz\n"
     ]
    },
    {
     "name": "stdout",
     "output_type": "stream",
     "text": [
      "363/363 [==============================] - 0s 538us/step - loss: 0.8408 - val_loss: 1.1505\n",
      "Epoch 2/20\n",
      "363/363 [==============================] - 0s 397us/step - loss: 0.8426 - val_loss: 0.5133\n",
      "Epoch 3/20\n",
      "363/363 [==============================] - 0s 390us/step - loss: 0.4646 - val_loss: 0.4796\n",
      "Epoch 4/20\n",
      "363/363 [==============================] - 0s 382us/step - loss: 0.4386 - val_loss: 0.4660\n",
      "Epoch 5/20\n",
      "363/363 [==============================] - 0s 385us/step - loss: 0.4523 - val_loss: 0.8506\n",
      "Epoch 6/20\n",
      "363/363 [==============================] - 0s 385us/step - loss: 0.4425 - val_loss: 0.4586\n",
      "Epoch 7/20\n",
      "363/363 [==============================] - 0s 385us/step - loss: 0.4128 - val_loss: 0.4413\n",
      "Epoch 8/20\n",
      "363/363 [==============================] - 0s 388us/step - loss: 0.4072 - val_loss: 0.4350\n",
      "Epoch 9/20\n",
      "363/363 [==============================] - 0s 385us/step - loss: 0.3964 - val_loss: 0.4299\n",
      "Epoch 10/20\n",
      "363/363 [==============================] - 0s 391us/step - loss: 0.3913 - val_loss: 0.4245\n",
      "Epoch 11/20\n",
      "363/363 [==============================] - 0s 383us/step - loss: 0.3879 - val_loss: 0.4195\n",
      "Epoch 12/20\n",
      "363/363 [==============================] - 0s 392us/step - loss: 0.3876 - val_loss: 0.4216\n",
      "Epoch 13/20\n",
      "363/363 [==============================] - 0s 385us/step - loss: 0.3807 - val_loss: 0.6323\n",
      "Epoch 14/20\n",
      "363/363 [==============================] - 0s 388us/step - loss: 0.3816 - val_loss: 0.4102\n",
      "Epoch 15/20\n",
      "363/363 [==============================] - 0s 386us/step - loss: 0.3736 - val_loss: 0.4073\n",
      "Epoch 16/20\n",
      "363/363 [==============================] - 0s 387us/step - loss: 0.3695 - val_loss: 0.4030\n",
      "Epoch 17/20\n",
      "363/363 [==============================] - 0s 385us/step - loss: 0.3667 - val_loss: 0.4010\n",
      "Epoch 18/20\n",
      "363/363 [==============================] - 0s 386us/step - loss: 0.3650 - val_loss: 0.4009\n",
      "Epoch 19/20\n",
      "363/363 [==============================] - 0s 387us/step - loss: 0.3750 - val_loss: 0.5338\n",
      "Epoch 20/20\n",
      "363/363 [==============================] - 0s 384us/step - loss: 0.3664 - val_loss: 0.4023\n"
     ]
    }
   ],
   "source": [
    "model = keras.models.Sequential(\n",
    "    [\n",
    "        keras.layers.Dense(30, activation=\"relu\", input_shape=X_train.shape[1:]),\n",
    "        keras.layers.Dense(1)\n",
    "    ]\n",
    ")\n",
    "model.compile(loss=\"mean_squared_error\", optimizer=\"sgd\")\n",
    "history = model.fit(\n",
    "    X_train, \n",
    "    y_train, \n",
    "    epochs=20,\n",
    "    validation_data=(X_valid, y_valid),\n",
    ")"
   ]
  },
  {
   "cell_type": "code",
   "execution_count": 15,
   "metadata": {},
   "outputs": [
    {
     "data": {
      "text/plain": [
       "<AxesSubplot:>"
      ]
     },
     "execution_count": 15,
     "metadata": {},
     "output_type": "execute_result"
    },
    {
     "data": {
      "image/png": "[encoded data removed]",
      "text/plain": [
       "<Figure size 432x288 with 1 Axes>"
      ]
     },
     "metadata": {
      "needs_background": "light"
     },
     "output_type": "display_data"
    }
   ],
   "source": [
    "import pandas as pd\n",
    "pd_history = pd.DataFrame(history.history)\n",
    "pd_history.plot()"
   ]
  },
  {
   "cell_type": "code",
   "execution_count": 16,
   "metadata": {},
   "outputs": [
    {
     "name": "stdout",
     "output_type": "stream",
     "text": [
      "162/162 [==============================] - 0s 276us/step - loss: 0.4022\n",
      "1/1 [==============================] - 0s 30ms/step\n"
     ]
    }
   ],
   "source": [
    "mse_test = model.evaluate(X_test, y_test)\n",
    "X_new = X_test[:3]\n",
    "y_pred = model.predict(X_new)"
   ]
  },
  {
   "cell_type": "markdown",
   "metadata": {},
   "source": [
    "Building Complex Models Using the Functional API"
   ]
  },
  {
   "cell_type": "markdown",
   "metadata": {},
   "source": [
    "# Fig 10-14"
   ]
  },
  {
   "cell_type": "markdown",
   "metadata": {},
   "source": [
    "### Functional API"
   ]
  },
  {
   "cell_type": "code",
   "execution_count": null,
   "metadata": {},
   "outputs": [],
   "source": [
    "input_ = keras.layers.Input(shape=X_train.shape[1:])\n",
    "hidden1 = keras.layers.Dense(30, activation=\"relu\")(input_)\n",
    "hidden2 = keras.layers.Dense(30, activation=\"relu\")(hidden1)\n",
    "concat = keras.layers.Concatenate()([input, hidden2])\n",
    "output = keras.layers.Dense(1)(concat)\n",
    "model = keras.Model(inputs=[input_], outputs=[output])"
   ]
  },
  {
   "cell_type": "code",
   "execution_count": null,
   "metadata": {},
   "outputs": [],
   "source": [
    "# construct a model\n",
    "# compile the model\n",
    "# train the model\n",
    "# evaluate the model\n",
    "# use it to make predictions"
   ]
  },
  {
   "cell_type": "code",
   "execution_count": 19,
   "metadata": {},
   "outputs": [
    {
     "name": "stdout",
     "output_type": "stream",
     "text": [
      "Epoch 1/20\n",
      "363/363 [==============================] - 0s 499us/step - loss: 0.3663 - val_loss: 0.3935\n",
      "Epoch 2/20\n",
      "363/363 [==============================] - 0s 396us/step - loss: 0.3562 - val_loss: 0.4008\n",
      "Epoch 3/20\n",
      "363/363 [==============================] - 0s 393us/step - loss: 0.3555 - val_loss: 0.3953\n",
      "Epoch 4/20\n",
      "363/363 [==============================] - 0s 392us/step - loss: 0.3543 - val_loss: 0.3881\n",
      "Epoch 5/20\n",
      "363/363 [==============================] - 0s 391us/step - loss: 0.3517 - val_loss: 0.3860\n",
      "Epoch 6/20\n",
      "363/363 [==============================] - 0s 391us/step - loss: 0.3535 - val_loss: 0.3884\n",
      "Epoch 7/20\n",
      "363/363 [==============================] - 0s 392us/step - loss: 0.3487 - val_loss: 0.3927\n",
      "Epoch 8/20\n",
      "363/363 [==============================] - 0s 394us/step - loss: 0.3518 - val_loss: 0.3866\n",
      "Epoch 9/20\n",
      "363/363 [==============================] - 0s 389us/step - loss: 0.3470 - val_loss: 0.3902\n",
      "Epoch 10/20\n",
      "363/363 [==============================] - 0s 391us/step - loss: 0.3457 - val_loss: 0.3820\n",
      "Epoch 11/20\n",
      "363/363 [==============================] - 0s 387us/step - loss: 0.3456 - val_loss: 0.3825\n",
      "Epoch 12/20\n",
      "363/363 [==============================] - 0s 392us/step - loss: 0.3515 - val_loss: 0.3943\n",
      "Epoch 13/20\n",
      "363/363 [==============================] - 0s 401us/step - loss: 0.3416 - val_loss: 0.3826\n",
      "Epoch 14/20\n",
      "363/363 [==============================] - 0s 387us/step - loss: 0.3394 - val_loss: 0.3907\n",
      "Epoch 15/20\n",
      "363/363 [==============================] - 0s 389us/step - loss: 0.3502 - val_loss: 0.3810\n",
      "Epoch 16/20\n",
      "363/363 [==============================] - 0s 393us/step - loss: 0.3383 - val_loss: 0.3788\n",
      "Epoch 17/20\n",
      "363/363 [==============================] - 0s 393us/step - loss: 0.3335 - val_loss: 0.3823\n",
      "Epoch 18/20\n",
      "363/363 [==============================] - 0s 393us/step - loss: 0.3366 - val_loss: 0.3704\n",
      "Epoch 19/20\n",
      "363/363 [==============================] - 0s 398us/step - loss: 0.3381 - val_loss: 0.3724\n",
      "Epoch 20/20\n",
      "363/363 [==============================] - 0s 396us/step - loss: 0.3560 - val_loss: 0.3746\n"
     ]
    }
   ],
   "source": [
    "model.compile(loss=\"mean_squared_error\", optimizer=\"sgd\")\n",
    "history_wide_deep = model.fit(\n",
    "    X_train, \n",
    "    y_train, \n",
    "    epochs=20,\n",
    "    validation_data=(X_valid, y_valid),\n",
    ")"
   ]
  },
  {
   "cell_type": "code",
   "execution_count": 20,
   "metadata": {},
   "outputs": [
    {
     "data": {
      "text/plain": [
       "<AxesSubplot:>"
      ]
     },
     "execution_count": 20,
     "metadata": {},
     "output_type": "execute_result"
    },
    {
     "data": {
      "image/png": "[encoded data removed]",
      "text/plain": [
       "<Figure size 432x288 with 1 Axes>"
      ]
     },
     "metadata": {
      "needs_background": "light"
     },
     "output_type": "display_data"
    }
   ],
   "source": [
    "pd_history_wide_deep = pd.DataFrame(history.history)\n",
    "pd_history_wide_deep.plot()"
   ]
  },
  {
   "cell_type": "markdown",
   "metadata": {},
   "source": [
    "# Fig 10-15"
   ]
  },
  {
   "cell_type": "code",
   "execution_count": 21,
   "metadata": {},
   "outputs": [],
   "source": [
    "input_A = keras.layers.Input(shape=[5], name=\"wide_input\")\n",
    "input_B = keras.layers.Input(shape=[6], name=\"deep_input\")\n",
    "hidden1 = keras.layers.Dense(30, activation=\"relu\")(input_B)\n",
    "hidden2 = keras.layers.Dense(30, activation=\"relu\")(hidden1)\n",
    "concat = keras.layers.concatenate([input_A, hidden2])\n",
    "output = keras.layers.Dense(1, name=\"output\")(concat)\n",
    "model = keras.Model(inputs=[input_A, input_B], outputs=[output])"
   ]
  },
  {
   "cell_type": "code",
   "execution_count": 22,
   "metadata": {},
   "outputs": [
    {
     "name": "stdout",
     "output_type": "stream",
     "text": [
      "Epoch 1/20\n",
      "129/363 [=========>....................] - ETA: 0s - loss: 3.5050 "
     ]
    },
    {
     "name": "stderr",
     "output_type": "stream",
     "text": [
      "/Users/soomin/.pyenv/versions/miniforge3-4.10.1-5/envs/handson-conda/lib/python3.10/site-packages/keras/optimizers/optimizer_v2/gradient_descent.py:108: UserWarning: The `lr` argument is deprecated, use `learning_rate` instead.\n",
      "  super(SGD, self).__init__(name, **kwargs)\n"
     ]
    },
    {
     "name": "stdout",
     "output_type": "stream",
     "text": [
      "363/363 [==============================] - 0s 577us/step - loss: 2.3018 - val_loss: 1.1938\n",
      "Epoch 2/20\n",
      "363/363 [==============================] - 0s 443us/step - loss: 0.8580 - val_loss: 0.7480\n",
      "Epoch 3/20\n",
      "363/363 [==============================] - 0s 439us/step - loss: 0.6749 - val_loss: 0.6618\n",
      "Epoch 4/20\n",
      "363/363 [==============================] - 0s 441us/step - loss: 0.6070 - val_loss: 0.6256\n",
      "Epoch 5/20\n",
      "363/363 [==============================] - 0s 445us/step - loss: 0.5703 - val_loss: 0.5930\n",
      "Epoch 6/20\n",
      "363/363 [==============================] - 0s 447us/step - loss: 0.5435 - val_loss: 0.5717\n",
      "Epoch 7/20\n",
      "363/363 [==============================] - 0s 447us/step - loss: 0.5287 - val_loss: 0.5583\n",
      "Epoch 8/20\n",
      "363/363 [==============================] - 0s 460us/step - loss: 0.5134 - val_loss: 0.5494\n",
      "Epoch 9/20\n",
      "363/363 [==============================] - 0s 453us/step - loss: 0.5039 - val_loss: 0.5400\n",
      "Epoch 10/20\n",
      "363/363 [==============================] - 0s 443us/step - loss: 0.4996 - val_loss: 0.5349\n",
      "Epoch 11/20\n",
      "363/363 [==============================] - 0s 530us/step - loss: 0.4931 - val_loss: 0.5285\n",
      "Epoch 12/20\n",
      "363/363 [==============================] - 0s 443us/step - loss: 0.4882 - val_loss: 0.5241\n",
      "Epoch 13/20\n",
      "363/363 [==============================] - 0s 442us/step - loss: 0.4841 - val_loss: 0.5220\n",
      "Epoch 14/20\n",
      "363/363 [==============================] - 0s 441us/step - loss: 0.4832 - val_loss: 0.5180\n",
      "Epoch 15/20\n",
      "363/363 [==============================] - 0s 462us/step - loss: 0.4776 - val_loss: 0.5360\n",
      "Epoch 16/20\n",
      "363/363 [==============================] - 0s 443us/step - loss: 0.4763 - val_loss: 0.5134\n",
      "Epoch 17/20\n",
      "363/363 [==============================] - 0s 456us/step - loss: 0.4720 - val_loss: 0.5219\n",
      "Epoch 18/20\n",
      "363/363 [==============================] - 0s 489us/step - loss: 0.4726 - val_loss: 0.5098\n",
      "Epoch 19/20\n",
      "363/363 [==============================] - 0s 446us/step - loss: 0.4696 - val_loss: 0.5066\n",
      "Epoch 20/20\n",
      "363/363 [==============================] - 0s 453us/step - loss: 0.4667 - val_loss: 0.5055\n",
      "162/162 [==============================] - 0s 297us/step - loss: 0.5073\n",
      "1/1 [==============================] - 0s 18ms/step\n"
     ]
    }
   ],
   "source": [
    "model.compile(loss=\"mse\", optimizer=keras.optimizers.SGD(lr=1e-3))\n",
    "\n",
    "X_train_A, X_train_B = X_train[:, :5], X_train[:, 2:]\n",
    "X_valid_A, X_valid_B = X_valid[:, :5], X_valid[:, 2:]\n",
    "X_test_A, X_test_B = X_test[:, :5], X_test[:, 2:]\n",
    "X_new_A, X_new_B = X_test_A[:3], X_test_B[:3]\n",
    "\n",
    "history = model.fit(\n",
    "    (X_train_A, X_train_B), \n",
    "    y_train, \n",
    "    epochs=20,\n",
    "    validation_data=((X_valid_A, X_valid_B), y_valid)\n",
    ")\n",
    "mse_test = model.evaluate((X_test_A, X_test_B), y_test)\n",
    "y_pred = model.predict((X_new_A, X_new_B))"
   ]
  },
  {
   "cell_type": "code",
   "execution_count": 23,
   "metadata": {},
   "outputs": [
    {
     "data": {
      "text/plain": [
       "<AxesSubplot:>"
      ]
     },
     "execution_count": 23,
     "metadata": {},
     "output_type": "execute_result"
    },
    {
     "data": {
      "image/png": "[encoded data removed]",
      "text/plain": [
       "<Figure size 432x288 with 1 Axes>"
      ]
     },
     "metadata": {
      "needs_background": "light"
     },
     "output_type": "display_data"
    }
   ],
   "source": [
    "pd.DataFrame(history.history).plot()"
   ]
  },
  {
   "cell_type": "markdown",
   "metadata": {},
   "source": [
    "# many cases where you want to have multiple outputs:\n",
    "1. Locate (regression) & classify (classification) the main object in a picture\n",
    "2. Multiple independent tasks based on the same data\n",
    "    ex: classify the person's facial expression & identify whether the person is wearing glasses or not.\n",
    "3. Regularization technique\n",
    "    ex: add some auxiliary outputs in a neural network architecture to ensure that the underlying part of the network learns something useful on its own, without relying on the rest of the network."
   ]
  },
  {
   "cell_type": "markdown",
   "metadata": {},
   "source": [
    "# Fig 10-16"
   ]
  },
  {
   "cell_type": "code",
   "execution_count": 26,
   "metadata": {},
   "outputs": [],
   "source": [
    "# Adding auxilirary output\n",
    "\n",
    "input_A = keras.layers.Input(shape=[5], name=\"wide_input\")\n",
    "input_B = keras.layers.Input(shape=[6], name=\"deep_input\")\n",
    "hidden1 = keras.layers.Dense(30, activation=\"relu\")(input_B)\n",
    "hidden2 = keras.layers.Dense(30, activation=\"relu\")(hidden1)\n",
    "concat = keras.layers.concatenate([input_A, hidden2])\n",
    "output = keras.layers.Dense(1, name=\"output\")(concat)\n",
    "aux_output = keras.layers.Dense(1, name=\"aux_output\")(hidden2)\n",
    "model = keras.Model(inputs=[input_A, input_B], outputs=[output, aux_output])\n",
    "\n",
    "# Need to specify loss & loss weights individually to assign what you want.\n",
    "model.compile(\n",
    "    loss=[\"mse\", \"mse\"],\n",
    "    loss_weights=[0.9, 0.1],\n",
    "    optimizer=\"sgd\",\n",
    ")"
   ]
  },
  {
   "cell_type": "code",
   "execution_count": 27,
   "metadata": {},
   "outputs": [
    {
     "name": "stdout",
     "output_type": "stream",
     "text": [
      "Epoch 1/20\n",
      "363/363 [==============================] - 0s 682us/step - loss: 1.0028 - output_loss: 0.8326 - aux_output_loss: 2.5352 - val_loss: 0.6614 - val_output_loss: 0.5939 - val_aux_output_loss: 1.2692\n",
      "Epoch 2/20\n",
      "363/363 [==============================] - 0s 597us/step - loss: 0.5808 - output_loss: 0.5223 - aux_output_loss: 1.1070 - val_loss: 0.6810 - val_output_loss: 0.6416 - val_aux_output_loss: 1.0358\n",
      "Epoch 3/20\n",
      "363/363 [==============================] - 0s 516us/step - loss: 0.5226 - output_loss: 0.4767 - aux_output_loss: 0.9362 - val_loss: 0.5352 - val_output_loss: 0.4931 - val_aux_output_loss: 0.9141\n",
      "Epoch 4/20\n",
      "363/363 [==============================] - 0s 512us/step - loss: 0.4940 - output_loss: 0.4564 - aux_output_loss: 0.8320 - val_loss: 0.5180 - val_output_loss: 0.4834 - val_aux_output_loss: 0.8298\n",
      "Epoch 5/20\n",
      "363/363 [==============================] - 0s 521us/step - loss: 0.4722 - output_loss: 0.4401 - aux_output_loss: 0.7616 - val_loss: 0.5038 - val_output_loss: 0.4737 - val_aux_output_loss: 0.7753\n",
      "Epoch 6/20\n",
      "363/363 [==============================] - 0s 514us/step - loss: 0.4636 - output_loss: 0.4358 - aux_output_loss: 0.7143 - val_loss: 0.4937 - val_output_loss: 0.4663 - val_aux_output_loss: 0.7405\n",
      "Epoch 7/20\n",
      "363/363 [==============================] - 0s 511us/step - loss: 0.4596 - output_loss: 0.4347 - aux_output_loss: 0.6842 - val_loss: 0.4772 - val_output_loss: 0.4519 - val_aux_output_loss: 0.7051\n",
      "Epoch 8/20\n",
      "363/363 [==============================] - 0s 522us/step - loss: 0.4389 - output_loss: 0.4146 - aux_output_loss: 0.6573 - val_loss: 0.4689 - val_output_loss: 0.4450 - val_aux_output_loss: 0.6835\n",
      "Epoch 9/20\n",
      "363/363 [==============================] - 0s 517us/step - loss: 0.4301 - output_loss: 0.4071 - aux_output_loss: 0.6378 - val_loss: 0.4625 - val_output_loss: 0.4397 - val_aux_output_loss: 0.6680\n",
      "Epoch 10/20\n",
      "363/363 [==============================] - 0s 510us/step - loss: 0.4344 - output_loss: 0.4134 - aux_output_loss: 0.6235 - val_loss: 0.4502 - val_output_loss: 0.4276 - val_aux_output_loss: 0.6532\n",
      "Epoch 11/20\n",
      "363/363 [==============================] - 0s 513us/step - loss: 0.4257 - output_loss: 0.4045 - aux_output_loss: 0.6164 - val_loss: 0.4464 - val_output_loss: 0.4248 - val_aux_output_loss: 0.6404\n",
      "Epoch 12/20\n",
      "363/363 [==============================] - 0s 518us/step - loss: 0.4086 - output_loss: 0.3879 - aux_output_loss: 0.5947 - val_loss: 0.4408 - val_output_loss: 0.4204 - val_aux_output_loss: 0.6240\n",
      "Epoch 13/20\n",
      "363/363 [==============================] - 0s 513us/step - loss: 0.4021 - output_loss: 0.3821 - aux_output_loss: 0.5825 - val_loss: 0.4331 - val_output_loss: 0.4134 - val_aux_output_loss: 0.6104\n",
      "Epoch 14/20\n",
      "363/363 [==============================] - 0s 508us/step - loss: 0.3957 - output_loss: 0.3761 - aux_output_loss: 0.5720 - val_loss: 0.4318 - val_output_loss: 0.4131 - val_aux_output_loss: 0.6006\n",
      "Epoch 15/20\n",
      "363/363 [==============================] - 0s 521us/step - loss: 0.3902 - output_loss: 0.3712 - aux_output_loss: 0.5613 - val_loss: 0.4278 - val_output_loss: 0.4101 - val_aux_output_loss: 0.5873\n",
      "Epoch 16/20\n",
      "363/363 [==============================] - 0s 514us/step - loss: 0.3847 - output_loss: 0.3662 - aux_output_loss: 0.5508 - val_loss: 0.4079 - val_output_loss: 0.3891 - val_aux_output_loss: 0.5774\n",
      "Epoch 17/20\n",
      "363/363 [==============================] - 0s 514us/step - loss: 0.3804 - output_loss: 0.3624 - aux_output_loss: 0.5420 - val_loss: 0.4037 - val_output_loss: 0.3853 - val_aux_output_loss: 0.5696\n",
      "Epoch 18/20\n",
      "363/363 [==============================] - 0s 521us/step - loss: 0.3785 - output_loss: 0.3611 - aux_output_loss: 0.5349 - val_loss: 0.4090 - val_output_loss: 0.3906 - val_aux_output_loss: 0.5748\n",
      "Epoch 19/20\n",
      "363/363 [==============================] - 0s 523us/step - loss: 0.3768 - output_loss: 0.3601 - aux_output_loss: 0.5273 - val_loss: 0.3938 - val_output_loss: 0.3760 - val_aux_output_loss: 0.5538\n",
      "Epoch 20/20\n",
      "363/363 [==============================] - 0s 516us/step - loss: 0.3694 - output_loss: 0.3529 - aux_output_loss: 0.5183 - val_loss: 0.3903 - val_output_loss: 0.3719 - val_aux_output_loss: 0.5561\n"
     ]
    }
   ],
   "source": [
    "history = model.fit(\n",
    "    [X_train_A, X_train_B], \n",
    "    [y_train, y_train], \n",
    "    epochs=20,\n",
    "    validation_data=([X_valid_A, X_valid_B], [y_valid, y_valid])\n",
    ")"
   ]
  },
  {
   "cell_type": "code",
   "execution_count": 28,
   "metadata": {},
   "outputs": [
    {
     "name": "stdout",
     "output_type": "stream",
     "text": [
      "162/162 [==============================] - 0s 367us/step - loss: 0.3976 - output_loss: 0.3797 - aux_output_loss: 0.5594\n"
     ]
    }
   ],
   "source": [
    "total_loss, main_loss, aux_loss = model.evaluate(\n",
    "    [X_test_A, X_test_B], [y_test, y_test]\n",
    ")"
   ]
  },
  {
   "cell_type": "code",
   "execution_count": 29,
   "metadata": {},
   "outputs": [
    {
     "name": "stdout",
     "output_type": "stream",
     "text": [
      "1/1 [==============================] - 0s 23ms/step\n"
     ]
    }
   ],
   "source": [
    "y_pred_main, y_pred_aux = model.predict([X_new_A, X_new_B])"
   ]
  },
  {
   "cell_type": "code",
   "execution_count": 31,
   "metadata": {},
   "outputs": [],
   "source": [
    "model.save(\"my_keras_model.h5\")\n",
    "# model architecture\n",
    "# every layer's hyperparameters\n",
    "# values of all the model hyperparameters\n",
    "# optimizer\n",
    "model_saved = keras.models.load_model(\"my_keras_model.h5\")"
   ]
  },
  {
   "cell_type": "code",
   "execution_count": 36,
   "metadata": {},
   "outputs": [
    {
     "name": "stdout",
     "output_type": "stream",
     "text": [
      "Model: \"model_1\"\n",
      "__________________________________________________________________________________________________\n",
      " Layer (type)                   Output Shape         Param #     Connected to                     \n",
      "==================================================================================================\n",
      " deep_input (InputLayer)        [(None, 6)]          0           []                               \n",
      "                                                                                                  \n",
      " dense_4 (Dense)                (None, 30)           210         ['deep_input[0][0]']             \n",
      "                                                                                                  \n",
      " wide_input (InputLayer)        [(None, 5)]          0           []                               \n",
      "                                                                                                  \n",
      " dense_5 (Dense)                (None, 30)           930         ['dense_4[0][0]']                \n",
      "                                                                                                  \n",
      " concatenate_1 (Concatenate)    (None, 35)           0           ['wide_input[0][0]',             \n",
      "                                                                  'dense_5[0][0]']                \n",
      "                                                                                                  \n",
      " output (Dense)                 (None, 1)            36          ['concatenate_1[0][0]']          \n",
      "                                                                                                  \n",
      " aux_output (Dense)             (None, 1)            31          ['dense_5[0][0]']                \n",
      "                                                                                                  \n",
      "==================================================================================================\n",
      "Total params: 1,207\n",
      "Trainable params: 1,207\n",
      "Non-trainable params: 0\n",
      "__________________________________________________________________________________________________\n"
     ]
    }
   ],
   "source": [
    "type(model)\n",
    "model.summary()"
   ]
  },
  {
   "cell_type": "code",
   "execution_count": 37,
   "metadata": {},
   "outputs": [
    {
     "name": "stdout",
     "output_type": "stream",
     "text": [
      "Model: \"model_1\"\n",
      "__________________________________________________________________________________________________\n",
      " Layer (type)                   Output Shape         Param #     Connected to                     \n",
      "==================================================================================================\n",
      " deep_input (InputLayer)        [(None, 6)]          0           []                               \n",
      "                                                                                                  \n",
      " dense_4 (Dense)                (None, 30)           210         ['deep_input[0][0]']             \n",
      "                                                                                                  \n",
      " wide_input (InputLayer)        [(None, 5)]          0           []                               \n",
      "                                                                                                  \n",
      " dense_5 (Dense)                (None, 30)           930         ['dense_4[0][0]']                \n",
      "                                                                                                  \n",
      " concatenate_1 (Concatenate)    (None, 35)           0           ['wide_input[0][0]',             \n",
      "                                                                  'dense_5[0][0]']                \n",
      "                                                                                                  \n",
      " output (Dense)                 (None, 1)            36          ['concatenate_1[0][0]']          \n",
      "                                                                                                  \n",
      " aux_output (Dense)             (None, 1)            31          ['dense_5[0][0]']                \n",
      "                                                                                                  \n",
      "==================================================================================================\n",
      "Total params: 1,207\n",
      "Trainable params: 1,207\n",
      "Non-trainable params: 0\n",
      "__________________________________________________________________________________________________\n"
     ]
    }
   ],
   "source": [
    "type(model_saved)\n",
    "model_saved.summary()"
   ]
  },
  {
   "cell_type": "markdown",
   "metadata": {},
   "source": [
    "# Using the subclasss API to build dynamic models"
   ]
  },
  {
   "cell_type": "markdown",
   "metadata": {},
   "source": [
    "### Model Subclass API"
   ]
  },
  {
   "cell_type": "code",
   "execution_count": null,
   "metadata": {},
   "outputs": [],
   "source": [
    "# Moreover, Keras cannot check types and shapes ahead of time, \n",
    "# and it is easier to make mistakes. \n",
    "# So unless you really need that extra flexibility, \n",
    "# you should probably stick to the Sequential API or the Functional API.\n",
    "\n",
    "class WideAndDeepModel(keras.Model):\n",
    "    def __init__(self, units=30, activation=\"relu\", **kwargs):\n",
    "        super().__init__(**kwargs) # handles standard args (e.g., name)\n",
    "        self.hidden1 = keras.layers.Dense(units, activation=activation)\n",
    "        self.hidden2 = keras.layers.Dense(units, activation=activation)\n",
    "        self.main_output = keras.layers.Dense(1)\n",
    "        self.aux_output = keras.layers.Dense(1)\n",
    "\n",
    "    def call(self, inputs):\n",
    "        input_A, input_B = inputs\n",
    "        hidden1 = self.hidden1(input_B)\n",
    "        hidden2 = self.hidden2(hidden1)\n",
    "        concat = keras.layers.concatenate([input_A, hidden2])\n",
    "        main_output = self.main_output(concat)\n",
    "        aux_output = self.aux_output(hidden2)\n",
    "\n",
    "        return main_output, aux_output\n",
    "\n",
    "model = WideAndDeepModel()"
   ]
  }
 ],
 "metadata": {
  "interpreter": {
   "hash": "5f5c8a3209899e766b0d344da7f378c47efae6198cfb7cfdabe359cc9a92c262"
  },
  "kernelspec": {
   "display_name": "Python 3.10.5 64-bit ('handson-conda')",
   "language": "python",
   "name": "python3"
  },
  "language_info": {
   "codemirror_mode": {
    "name": "ipython",
    "version": 3
   },
   "file_extension": ".py",
   "mimetype": "text/x-python",
   "name": "python",
   "nbconvert_exporter": "python",
   "pygments_lexer": "ipython3",
   "version": "3.10.5"
  },
  "orig_nbformat": 4
 },
 "nbformat": 4,
 "nbformat_minor": 2
}
